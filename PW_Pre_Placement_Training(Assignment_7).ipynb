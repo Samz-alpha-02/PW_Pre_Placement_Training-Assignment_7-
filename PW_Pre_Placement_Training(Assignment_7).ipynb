{
  "nbformat": 4,
  "nbformat_minor": 0,
  "metadata": {
    "colab": {
      "provenance": []
    },
    "kernelspec": {
      "name": "python3",
      "display_name": "Python 3"
    },
    "language_info": {
      "name": "python"
    }
  },
  "cells": [
    {
      "cell_type": "code",
      "execution_count": 1,
      "metadata": {
        "colab": {
          "base_uri": "https://localhost:8080/"
        },
        "id": "1vFyRh6OCjdK",
        "outputId": "110aa997-b529-42e5-c5df-a114a96aecf3"
      },
      "outputs": [
        {
          "output_type": "stream",
          "name": "stdout",
          "text": [
            "True\n",
            "False\n",
            "True\n"
          ]
        }
      ],
      "source": [
        "#Q1\n",
        "def is_isomorphic(s, t):\n",
        "    if len(s) != len(t):\n",
        "        return False\n",
        "\n",
        "    s_map = {}\n",
        "    t_map = {}\n",
        "\n",
        "    for i in range(len(s)):\n",
        "        s_char = s[i]\n",
        "        t_char = t[i]\n",
        "\n",
        "        if s_char not in s_map and t_char not in t_map:\n",
        "            s_map[s_char] = t_char\n",
        "            t_map[t_char] = s_char\n",
        "        elif s_char in s_map and s_map[s_char] != t_char:\n",
        "            return False\n",
        "        elif t_char in t_map and t_map[t_char] != s_char:\n",
        "            return False\n",
        "\n",
        "    return True\n",
        "\n",
        "s1 = \"egg\"\n",
        "t1 = \"add\"\n",
        "print(is_isomorphic(s1, t1))\n",
        "\n",
        "s2 = \"foo\"\n",
        "t2 = \"bar\"\n",
        "print(is_isomorphic(s2, t2))\n",
        "\n",
        "s3 = \"paper\"\n",
        "t3 = \"title\"\n",
        "print(is_isomorphic(s3, t3))\n"
      ]
    },
    {
      "cell_type": "code",
      "source": [
        "#Q2\n",
        "def is_strobogrammatic(num):\n",
        "    strobogrammatic_pairs = {\n",
        "        '0': '0',\n",
        "        '1': '1',\n",
        "        '6': '9',\n",
        "        '8': '8',\n",
        "        '9': '6'\n",
        "    }\n",
        "\n",
        "    left = 0\n",
        "    right = len(num) - 1\n",
        "\n",
        "    while left <= right:\n",
        "        if num[left] not in strobogrammatic_pairs or num[right] != strobogrammatic_pairs[num[left]]:\n",
        "            return False\n",
        "        left += 1\n",
        "        right -= 1\n",
        "\n",
        "    return True\n",
        "\n",
        "num1 = \"69\"\n",
        "print(is_strobogrammatic(num1))\n",
        "num2 = \"88\"\n",
        "print(is_strobogrammatic(num2))\n",
        "\n",
        "num3 = \"962\"\n",
        "print(is_strobogrammatic(num3))\n"
      ],
      "metadata": {
        "colab": {
          "base_uri": "https://localhost:8080/"
        },
        "id": "VNGhB8E0Kbon",
        "outputId": "527ea4bd-f2a1-413f-bccc-5ae82ae52e22"
      },
      "execution_count": 2,
      "outputs": [
        {
          "output_type": "stream",
          "name": "stdout",
          "text": [
            "True\n",
            "True\n",
            "False\n"
          ]
        }
      ]
    },
    {
      "cell_type": "code",
      "source": [
        "#Q3\n",
        "def add_strings(num1, num2):\n",
        "    result = []\n",
        "    carry = 0\n",
        "    i = len(num1) - 1\n",
        "    j = len(num2) - 1\n",
        "\n",
        "    while i >= 0 or j >= 0 or carry > 0:\n",
        "        digit_sum = carry\n",
        "\n",
        "        if i >= 0:\n",
        "            digit_sum += int(num1[i])\n",
        "            i -= 1\n",
        "        if j >= 0:\n",
        "            digit_sum += int(num2[j])\n",
        "            j -= 1\n",
        "\n",
        "        result.append(str(digit_sum % 10))\n",
        "        carry = digit_sum // 10\n",
        "\n",
        "    return ''.join(result[::-1])\n",
        "\n",
        "num1 = \"123\"\n",
        "num2 = \"456\"\n",
        "print(add_strings(num1, num2))\n",
        "\n",
        "num3 = \"999\"\n",
        "num4 = \"1\"\n",
        "print(add_strings(num3, num4))\n"
      ],
      "metadata": {
        "colab": {
          "base_uri": "https://localhost:8080/"
        },
        "id": "fAiJcFgcL16s",
        "outputId": "d9f08445-ed0f-4d84-ddcc-a91be661d620"
      },
      "execution_count": 4,
      "outputs": [
        {
          "output_type": "stream",
          "name": "stdout",
          "text": [
            "579\n",
            "1000\n"
          ]
        }
      ]
    },
    {
      "cell_type": "code",
      "source": [
        "#Q4\n",
        "s = \"Let's take LeetCode contest\"\n",
        "lst = []\n",
        "space = []\n",
        "space.append(0)\n",
        "\n",
        "for i in range(len(s)):\n",
        "    if s[i] == ' ':\n",
        "        space.append(i)\n",
        "\n",
        "for i in range(len(space)):\n",
        "    if i + 1 < len(space):\n",
        "        temp = s[space[i]:space[i + 1]]\n",
        "    else:\n",
        "        temp = s[space[i]:]\n",
        "\n",
        "    temp = temp[::-1]\n",
        "    lst.append(temp)\n",
        "\n",
        "result = ' '.join(lst)\n",
        "print(result)\n",
        "\n",
        ""
      ],
      "metadata": {
        "colab": {
          "base_uri": "https://localhost:8080/"
        },
        "id": "LScacfCwSMlA",
        "outputId": "d7826fc6-dd39-4201-8933-3b995f106fd7"
      },
      "execution_count": 5,
      "outputs": [
        {
          "output_type": "stream",
          "name": "stdout",
          "text": [
            "s'teL ekat  edoCteeL  tsetnoc \n"
          ]
        }
      ]
    },
    {
      "cell_type": "code",
      "source": [
        "#Q5\n",
        "def reverse_string(s, k):\n",
        "    result = \"\"\n",
        "    i = 0\n",
        "    while i < len(s):\n",
        "        first_k = s[i:i + k][::-1]\n",
        "        result += first_k + s[i + k:i + 2 * k]\n",
        "        i += 2 * k\n",
        "    return result\n",
        "\n",
        "s = \"abcdefg\"\n",
        "k = 2\n",
        "print(reverse_string(s, k))\n",
        "\n",
        "s = \"abcdefgh\"\n",
        "k = 3\n",
        "print(reverse_string(s, k))\n"
      ],
      "metadata": {
        "colab": {
          "base_uri": "https://localhost:8080/"
        },
        "id": "T6t8ldk6dWa9",
        "outputId": "020d7b87-64a5-48c1-8690-4e2c165b9aa5"
      },
      "execution_count": 6,
      "outputs": [
        {
          "output_type": "stream",
          "name": "stdout",
          "text": [
            "bacdfeg\n",
            "cbadefhg\n"
          ]
        }
      ]
    },
    {
      "cell_type": "code",
      "source": [
        "#Q6\n",
        "def can_shift(s, goal):\n",
        "    if len(s) != len(goal):\n",
        "        return False\n",
        "    return goal in s + s\n",
        "\n",
        "s1 = \"abcde\"\n",
        "goal1 = \"cdeab\"\n",
        "print(can_shift(s1, goal1))\n",
        "\n",
        "s2 = \"abcde\"\n",
        "goal2 = \"abced\"\n",
        "print(can_shift(s2, goal2))\n"
      ],
      "metadata": {
        "colab": {
          "base_uri": "https://localhost:8080/"
        },
        "id": "sQdZX5BHdtGV",
        "outputId": "3f32e32c-14dc-481e-9773-8233d79f515e"
      },
      "execution_count": 7,
      "outputs": [
        {
          "output_type": "stream",
          "name": "stdout",
          "text": [
            "True\n",
            "False\n"
          ]
        }
      ]
    },
    {
      "cell_type": "code",
      "source": [
        "#Q7\n",
        "def backspace_compare(s, t):\n",
        "    def process_string(string):\n",
        "        stack = []\n",
        "        for char in string:\n",
        "            if char == '#':\n",
        "                if stack:\n",
        "                    stack.pop()\n",
        "            else:\n",
        "                stack.append(char)\n",
        "        return ''.join(stack)\n",
        "\n",
        "    return process_string(s) == process_string(t)\n",
        "\n",
        "s1 = \"ab#c\"\n",
        "t1 = \"ad#c\"\n",
        "print(backspace_compare(s1, t1))\n",
        "\n",
        "s2 = \"ab##\"\n",
        "t2 = \"c#d#\"\n",
        "print(backspace_compare(s2, t2))\n",
        "\n",
        "s4 = \"a#c\"\n",
        "t4 = \"b\"\n",
        "print(backspace_compare(s4, t4))\n"
      ],
      "metadata": {
        "colab": {
          "base_uri": "https://localhost:8080/"
        },
        "id": "OLQI7oJjfJ_l",
        "outputId": "6f618b19-3a72-4ad5-d4d3-2ed0f89e20d2"
      },
      "execution_count": 8,
      "outputs": [
        {
          "output_type": "stream",
          "name": "stdout",
          "text": [
            "True\n",
            "True\n",
            "False\n"
          ]
        }
      ]
    },
    {
      "cell_type": "code",
      "source": [
        "#Q8\n",
        "def check(arr):\n",
        "    n = len(arr)\n",
        "    if n <= 2:\n",
        "        return True\n",
        "\n",
        "    x0, y0 = arr[0]\n",
        "    x1, y1 = arr[1]\n",
        "    slope = (y1 - y0) / (x1 - x0)\n",
        "\n",
        "    for i in range(2, n):\n",
        "        x, y = arr[i]\n",
        "        if (y - y0) / (x - x0) != slope:\n",
        "            return False\n",
        "\n",
        "    return True\n",
        "\n",
        "arr = [[1, 2], [2, 3], [3, 4], [4, 5], [5, 6], [6, 7]]\n",
        "print(check(arr))\n"
      ],
      "metadata": {
        "colab": {
          "base_uri": "https://localhost:8080/"
        },
        "id": "-G3usxm9qmbp",
        "outputId": "3999a079-ccd8-4749-bc9c-77ab148f6dba"
      },
      "execution_count": 9,
      "outputs": [
        {
          "output_type": "stream",
          "name": "stdout",
          "text": [
            "True\n"
          ]
        }
      ]
    }
  ]
}